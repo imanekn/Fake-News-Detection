{
  "cells": [
    {
      "cell_type": "markdown",
      "metadata": {
        "id": "view-in-github",
        "colab_type": "text"
      },
      "source": [
        "<a href=\"https://colab.research.google.com/github/imanekn/Fake-News-Detection/blob/main/fake_news_det.ipynb\" target=\"_parent\"><img src=\"https://colab.research.google.com/assets/colab-badge.svg\" alt=\"Open In Colab\"/></a>"
      ]
    },
    {
      "cell_type": "code",
      "execution_count": null,
      "metadata": {
        "id": "nZRf8l-TTDUB"
      },
      "outputs": [],
      "source": [
        "import numpy as np\n",
        "import pandas as pd\n",
        "import string\n",
        "import re\n",
        "import nltk"
      ]
    },
    {
      "cell_type": "code",
      "execution_count": null,
      "metadata": {
        "id": "vxncbcwKYT2X"
      },
      "outputs": [],
      "source": [
        "data = pd.read_excel('C:\\\\Users\\\\dcij\\\\Desktop\\\\Projet IA\\\\Data-FakeRealCOVID.xlsx')"
      ]
    },
    {
      "cell_type": "code",
      "execution_count": null,
      "metadata": {
        "colab": {
          "base_uri": "https://localhost:8080/",
          "height": 206
        },
        "id": "iZShj3XWYaid",
        "outputId": "4c84f165-5ed2-4fe8-d4f6-61aa10dd7a84"
      },
      "outputs": [
        {
          "data": {
            "text/html": [
              "<div>\n",
              "<style scoped>\n",
              "    .dataframe tbody tr th:only-of-type {\n",
              "        vertical-align: middle;\n",
              "    }\n",
              "\n",
              "    .dataframe tbody tr th {\n",
              "        vertical-align: top;\n",
              "    }\n",
              "\n",
              "    .dataframe thead th {\n",
              "        text-align: right;\n",
              "    }\n",
              "</style>\n",
              "<table border=\"1\" class=\"dataframe\">\n",
              "  <thead>\n",
              "    <tr style=\"text-align: right;\">\n",
              "      <th></th>\n",
              "      <th>id</th>\n",
              "      <th>tweet</th>\n",
              "      <th>label</th>\n",
              "    </tr>\n",
              "  </thead>\n",
              "  <tbody>\n",
              "    <tr>\n",
              "      <th>0</th>\n",
              "      <td>1</td>\n",
              "      <td>The CDC currently reports 99031 deaths. In gen...</td>\n",
              "      <td>real</td>\n",
              "    </tr>\n",
              "    <tr>\n",
              "      <th>1</th>\n",
              "      <td>2</td>\n",
              "      <td>States reported 1121 deaths a small rise from ...</td>\n",
              "      <td>real</td>\n",
              "    </tr>\n",
              "    <tr>\n",
              "      <th>2</th>\n",
              "      <td>3</td>\n",
              "      <td>Politically Correct Woman (Almost) Uses Pandem...</td>\n",
              "      <td>fake</td>\n",
              "    </tr>\n",
              "    <tr>\n",
              "      <th>3</th>\n",
              "      <td>4</td>\n",
              "      <td>#IndiaFightsCorona: We have 1524 #COVID testin...</td>\n",
              "      <td>real</td>\n",
              "    </tr>\n",
              "    <tr>\n",
              "      <th>4</th>\n",
              "      <td>5</td>\n",
              "      <td>Populous states can generate large case counts...</td>\n",
              "      <td>real</td>\n",
              "    </tr>\n",
              "  </tbody>\n",
              "</table>\n",
              "</div>"
            ],
            "text/plain": [
              "   id                                              tweet label\n",
              "0   1  The CDC currently reports 99031 deaths. In gen...  real\n",
              "1   2  States reported 1121 deaths a small rise from ...  real\n",
              "2   3  Politically Correct Woman (Almost) Uses Pandem...  fake\n",
              "3   4  #IndiaFightsCorona: We have 1524 #COVID testin...  real\n",
              "4   5  Populous states can generate large case counts...  real"
            ]
          },
          "execution_count": 3,
          "metadata": {},
          "output_type": "execute_result"
        }
      ],
      "source": [
        "data.head()"
      ]
    },
    {
      "cell_type": "markdown",
      "metadata": {
        "id": "7OL6GeeyZ4b1"
      },
      "source": [
        "### **Exploring Data**\n"
      ]
    },
    {
      "cell_type": "code",
      "execution_count": null,
      "metadata": {
        "colab": {
          "base_uri": "https://localhost:8080/",
          "height": 300
        },
        "id": "HUJvAQbJYb0A",
        "outputId": "20fd1ecb-14bf-478f-e5e0-be054da5bedb"
      },
      "outputs": [
        {
          "data": {
            "text/html": [
              "<div>\n",
              "<style scoped>\n",
              "    .dataframe tbody tr th:only-of-type {\n",
              "        vertical-align: middle;\n",
              "    }\n",
              "\n",
              "    .dataframe tbody tr th {\n",
              "        vertical-align: top;\n",
              "    }\n",
              "\n",
              "    .dataframe thead th {\n",
              "        text-align: right;\n",
              "    }\n",
              "</style>\n",
              "<table border=\"1\" class=\"dataframe\">\n",
              "  <thead>\n",
              "    <tr style=\"text-align: right;\">\n",
              "      <th></th>\n",
              "      <th>id</th>\n",
              "    </tr>\n",
              "  </thead>\n",
              "  <tbody>\n",
              "    <tr>\n",
              "      <th>count</th>\n",
              "      <td>6420.000000</td>\n",
              "    </tr>\n",
              "    <tr>\n",
              "      <th>mean</th>\n",
              "      <td>3210.500000</td>\n",
              "    </tr>\n",
              "    <tr>\n",
              "      <th>std</th>\n",
              "      <td>1853.438696</td>\n",
              "    </tr>\n",
              "    <tr>\n",
              "      <th>min</th>\n",
              "      <td>1.000000</td>\n",
              "    </tr>\n",
              "    <tr>\n",
              "      <th>25%</th>\n",
              "      <td>1605.750000</td>\n",
              "    </tr>\n",
              "    <tr>\n",
              "      <th>50%</th>\n",
              "      <td>3210.500000</td>\n",
              "    </tr>\n",
              "    <tr>\n",
              "      <th>75%</th>\n",
              "      <td>4815.250000</td>\n",
              "    </tr>\n",
              "    <tr>\n",
              "      <th>max</th>\n",
              "      <td>6420.000000</td>\n",
              "    </tr>\n",
              "  </tbody>\n",
              "</table>\n",
              "</div>"
            ],
            "text/plain": [
              "                id\n",
              "count  6420.000000\n",
              "mean   3210.500000\n",
              "std    1853.438696\n",
              "min       1.000000\n",
              "25%    1605.750000\n",
              "50%    3210.500000\n",
              "75%    4815.250000\n",
              "max    6420.000000"
            ]
          },
          "execution_count": 4,
          "metadata": {},
          "output_type": "execute_result"
        }
      ],
      "source": [
        "data.describe()"
      ]
    },
    {
      "cell_type": "code",
      "execution_count": null,
      "metadata": {
        "colab": {
          "base_uri": "https://localhost:8080/"
        },
        "id": "fXt4204iY6tt",
        "outputId": "def1988e-0423-4ceb-8942-deea93270818"
      },
      "outputs": [
        {
          "data": {
            "text/plain": [
              "id       0\n",
              "tweet    0\n",
              "label    0\n",
              "dtype: int64"
            ]
          },
          "execution_count": 5,
          "metadata": {},
          "output_type": "execute_result"
        }
      ],
      "source": [
        "#Check if there are any missing values\n",
        "data.isna().sum()"
      ]
    },
    {
      "cell_type": "markdown",
      "metadata": {
        "id": "t9yUGlwbZ0cv"
      },
      "source": [
        "### **Plotting**"
      ]
    },
    {
      "cell_type": "code",
      "execution_count": null,
      "metadata": {
        "id": "_4HTHX33Zdxj"
      },
      "outputs": [],
      "source": [
        "import matplotlib.pyplot as plt\n",
        "import seaborn as sns\n",
        "sns.set_style('darkgrid')\n",
        "import matplotlib.pyplot as plt\n",
        "import seaborn as sns\n",
        "sns.set_style('whitegrid')\n",
        "sns.set(rc={'figure.figsize':(6,5)})"
      ]
    },
    {
      "cell_type": "code",
      "execution_count": null,
      "metadata": {
        "colab": {
          "base_uri": "https://localhost:8080/",
          "height": 358
        },
        "id": "e0junVP0Zfxh",
        "outputId": "9ec6473d-31d3-49fe-da97-c6e9f73641e4"
      },
      "outputs": [
        {
          "data": {
            "text/plain": [
              "<AxesSubplot:xlabel='label', ylabel='count'>"
            ]
          },
          "execution_count": 7,
          "metadata": {},
          "output_type": "execute_result"
        },
        {
          "data": {
            "image/png": "[encoded data removed]",
            "text/plain": [
              "<Figure size 432x360 with 1 Axes>"
            ]
          },
          "metadata": {},
          "output_type": "display_data"
        }
      ],
      "source": [
        "sns.countplot(x='label', data=data)"
      ]
    },
    {
      "cell_type": "markdown",
      "metadata": {
        "id": "g0HIWmsRaJfh"
      },
      "source": [
        "### **Cleaning Data**"
      ]
    },
    {
      "cell_type": "code",
      "execution_count": null,
      "metadata": {
        "colab": {
          "base_uri": "https://localhost:8080/"
        },
        "id": "TCqODN13aDc0",
        "outputId": "32b8400a-4a09-4a8f-f5f7-97fb87cf1e7f"
      },
      "outputs": [
        {
          "name": "stderr",
          "output_type": "stream",
          "text": [
            "[nltk_data] Downloading package stopwords to\n",
            "[nltk_data]     C:\\Users\\dcij\\AppData\\Roaming\\nltk_data...\n",
            "[nltk_data]   Package stopwords is already up-to-date!\n",
            "[nltk_data] Downloading package punkt to\n",
            "[nltk_data]     C:\\Users\\dcij\\AppData\\Roaming\\nltk_data...\n",
            "[nltk_data]   Package punkt is already up-to-date!\n",
            "[nltk_data] Downloading package wordnet to\n",
            "[nltk_data]     C:\\Users\\dcij\\AppData\\Roaming\\nltk_data...\n",
            "[nltk_data]   Package wordnet is already up-to-date!\n"
          ]
        },
        {
          "data": {
            "text/plain": [
              "True"
            ]
          },
          "execution_count": 8,
          "metadata": {},
          "output_type": "execute_result"
        }
      ],
      "source": [
        "import nltk\n",
        "nltk.download('stopwords')\n",
        "nltk.download('punkt')\n",
        "nltk.download('wordnet')"
      ]
    },
    {
      "cell_type": "code",
      "execution_count": null,
      "metadata": {
        "id": "C5VxIZ6NatDV"
      },
      "outputs": [],
      "source": [
        "#importing necessary packages\n",
        "from nltk.corpus import stopwords\n",
        "from nltk.stem import WordNetLemmatizer\n",
        "from nltk.tokenize import sent_tokenize, word_tokenize\n",
        "from nltk.stem.porter import PorterStemmer"
      ]
    },
    {
      "cell_type": "code",
      "execution_count": null,
      "metadata": {
        "id": "mVFV0F94bUqN"
      },
      "outputs": [],
      "source": [
        "#Stemmer\n",
        "port_stem = PorterStemmer()"
      ]
    },
    {
      "cell_type": "markdown",
      "metadata": {
        "id": "4ONSsttwReQ1"
      },
      "source": [
        "We'll use the function below to clean text"
      ]
    },
    {
      "cell_type": "code",
      "execution_count": null,
      "metadata": {
        "id": "5WG4y6gYa3CI"
      },
      "outputs": [],
      "source": [
        "def preprocess(text):\n",
        "  \n",
        "    port_stem = PorterStemmer()\n",
        "    stop_words = stopwords.words('english')\n",
        "    \n",
        "    #to lowercase\n",
        "    text = text.lower()\n",
        "    #Removing links\n",
        "    text = re.sub(r'https\\S+', '', text, flags=re.MULTILINE)\n",
        "    #Removing usernames\n",
        "    text = re.sub(r'@\\S+', '', text, flags=re.MULTILINE)\n",
        "    #Removing hashtags\n",
        "    text = re.sub(r'#\\S+', '', text, flags=re.MULTILINE)\n",
        "    #Removing punctuation\n",
        "    text = text.translate(str.maketrans('', '', string.punctuation))\n",
        "    #Removing all non alphanumeric characters and numbers\n",
        "    text = re.sub('[^a-zA-Z]+', ' ', text) \n",
        "    #stemming\n",
        "    text = [port_stem.stem(word) for word in text.split() if not word in stopwords.words('english') and len(word)>2]\n",
        "    text = ' '.join(text)\n",
        "  \n",
        "    return text"
      ]
    },
    {
      "cell_type": "markdown",
      "metadata": {
        "id": "hJy3Q71vReQ1"
      },
      "source": [
        "We'll use the function below to apply the preprocess function to a dataframe rows"
      ]
    },
    {
      "cell_type": "code",
      "execution_count": null,
      "metadata": {
        "id": "ROwXzxgigC0p"
      },
      "outputs": [],
      "source": [
        "def data_preprocess(x):\n",
        "    x = x.apply(lambda x : preprocess(x))\n",
        "\n",
        "    y = x.copy(deep=True)\n",
        "    for i in range(y.shape[0]):\n",
        "        y[i] = \"\".join(x[i])\n",
        "\n",
        "    return y"
      ]
    },
    {
      "cell_type": "code",
      "execution_count": null,
      "metadata": {
        "id": "NfLTHi3fgpB9"
      },
      "outputs": [],
      "source": [
        "data = pd.read_excel('C:\\\\Users\\\\dcij\\\\Desktop\\\\Projet IA\\\\Data-FakeRealCOVID.xlsx')"
      ]
    },
    {
      "cell_type": "code",
      "execution_count": null,
      "metadata": {
        "colab": {
          "base_uri": "https://localhost:8080/",
          "height": 35
        },
        "id": "_S1XG82sdcR9",
        "outputId": "fbae578c-1702-4378-cb1f-bcf765fd1065"
      },
      "outputs": [
        {
          "data": {
            "text/plain": [
              "'read book page'"
            ]
          },
          "execution_count": 14,
          "metadata": {},
          "output_type": "execute_result"
        }
      ],
      "source": [
        "preprocess(\"https/hgjjfdnkjgn #imane @imane , I read a book with 7 pages\")"
      ]
    },
    {
      "cell_type": "code",
      "execution_count": null,
      "metadata": {
        "colab": {
          "base_uri": "https://localhost:8080/"
        },
        "id": "kZpCT4kpcZf9",
        "outputId": "a933323f-8bb8-4b44-fbc1-09ac27420bfc"
      },
      "outputs": [
        {
          "data": {
            "text/plain": [
              "0       cdc current report death gener discrep death c...\n",
              "1       state report death small rise last tuesday sou...\n",
              "2       polit correct woman almost use pandem excus re...\n",
              "3                  test laboratori india august test done\n",
              "4       popul state gener larg case count look new cas...\n",
              "                              ...                        \n",
              "6415      tiger test posit covid pleas stay away pet bird\n",
              "6416    autopsi prove covid blood clot pneumonia ought...\n",
              "6417    post claim covid vaccin alreadi develop caus w...\n",
              "6418                    aamir khan donat relief care fund\n",
              "6419    day sinc last case covid acquir local unknown ...\n",
              "Name: tweet, Length: 6420, dtype: object"
            ]
          },
          "execution_count": 15,
          "metadata": {},
          "output_type": "execute_result"
        }
      ],
      "source": [
        "#Applying data_preprocess to our dataframe tweets\n",
        "data[\"tweet\"] = data_preprocess(data[\"tweet\"])\n",
        "data[\"tweet\"]"
      ]
    },
    {
      "cell_type": "code",
      "execution_count": null,
      "metadata": {
        "id": "J_hS8CmYdN-Q"
      },
      "outputs": [],
      "source": [
        "#Loading preprocessed data\n",
        "data.to_csv(\"Data-FakeRealCOVID1.csv\", index=False)"
      ]
    },
    {
      "cell_type": "markdown",
      "metadata": {
        "id": "rDYaTclkhNsY"
      },
      "source": [
        "### **Features Extraction**"
      ]
    },
    {
      "cell_type": "code",
      "execution_count": null,
      "metadata": {
        "id": "F0Dy0mfMiDyW"
      },
      "outputs": [],
      "source": [
        "df = pd.read_csv(\"Data-FakeRealCOVID1.csv\")"
      ]
    },
    {
      "cell_type": "code",
      "execution_count": null,
      "metadata": {
        "id": "EEpkf627iggv"
      },
      "outputs": [],
      "source": [
        "#importing necessary packages\n",
        "from sklearn.feature_extraction.text import TfidfVectorizer\n",
        "from sklearn.model_selection import train_test_split"
      ]
    },
    {
      "cell_type": "code",
      "execution_count": null,
      "metadata": {
        "colab": {
          "base_uri": "https://localhost:8080/",
          "height": 112
        },
        "id": "omrfM55hi2Wr",
        "outputId": "7a2b6e2b-3385-4102-9031-264c49230ba6"
      },
      "outputs": [
        {
          "data": {
            "text/html": [
              "<div>\n",
              "<style scoped>\n",
              "    .dataframe tbody tr th:only-of-type {\n",
              "        vertical-align: middle;\n",
              "    }\n",
              "\n",
              "    .dataframe tbody tr th {\n",
              "        vertical-align: top;\n",
              "    }\n",
              "\n",
              "    .dataframe thead th {\n",
              "        text-align: right;\n",
              "    }\n",
              "</style>\n",
              "<table border=\"1\" class=\"dataframe\">\n",
              "  <thead>\n",
              "    <tr style=\"text-align: right;\">\n",
              "      <th></th>\n",
              "      <th>id</th>\n",
              "      <th>tweet</th>\n",
              "      <th>label</th>\n",
              "    </tr>\n",
              "  </thead>\n",
              "  <tbody>\n",
              "    <tr>\n",
              "      <th>4286</th>\n",
              "      <td>4287</td>\n",
              "      <td>NaN</td>\n",
              "      <td>fake</td>\n",
              "    </tr>\n",
              "    <tr>\n",
              "      <th>4697</th>\n",
              "      <td>4698</td>\n",
              "      <td>NaN</td>\n",
              "      <td>fake</td>\n",
              "    </tr>\n",
              "  </tbody>\n",
              "</table>\n",
              "</div>"
            ],
            "text/plain": [
              "        id tweet label\n",
              "4286  4287   NaN  fake\n",
              "4697  4698   NaN  fake"
            ]
          },
          "execution_count": 19,
          "metadata": {},
          "output_type": "execute_result"
        }
      ],
      "source": [
        "#Checking if there are any NaN values\n",
        "df[df.isnull().any(axis=1)]"
      ]
    },
    {
      "cell_type": "code",
      "execution_count": null,
      "metadata": {
        "id": "DLRIXXj9jecF"
      },
      "outputs": [],
      "source": [
        "#Dropping rows with Nan values\n",
        "df = df.dropna()"
      ]
    },
    {
      "cell_type": "code",
      "execution_count": null,
      "metadata": {
        "id": "6DKboGeEhNYO"
      },
      "outputs": [],
      "source": [
        "X = df['tweet']\n",
        "Y = df['label']"
      ]
    },
    {
      "cell_type": "code",
      "execution_count": null,
      "metadata": {
        "id": "ixSIzewf3ErA"
      },
      "outputs": [],
      "source": [
        "#Replacing \"true\" by 1 and \"fake\" by 0\n",
        "df[\"label\"].replace({\"real\": 1, \"fake\": 0}, inplace=True)"
      ]
    },
    {
      "cell_type": "code",
      "execution_count": null,
      "metadata": {
        "id": "AKqqpw6tiNxZ"
      },
      "outputs": [],
      "source": [
        "#TfidfVectorizer\n",
        "tfidf_vectorizer = TfidfVectorizer() \n",
        "X = tfidf_vectorizer.fit_transform(X).toarray()\n"
      ]
    },
    {
      "cell_type": "code",
      "execution_count": null,
      "metadata": {
        "colab": {
          "base_uri": "https://localhost:8080/"
        },
        "id": "DFgqx9oPktMu",
        "outputId": "0beece02-8f85-41f4-f84e-dbe3a1121969"
      },
      "outputs": [
        {
          "data": {
            "text/plain": [
              "array([1, 1, 0, ..., 0, 0, 1], dtype=int64)"
            ]
          },
          "execution_count": 24,
          "metadata": {},
          "output_type": "execute_result"
        }
      ],
      "source": [
        "#Transforming label column to numpy\n",
        "label = Y.to_numpy()\n",
        "label"
      ]
    },
    {
      "cell_type": "code",
      "execution_count": null,
      "metadata": {
        "id": "3XholXw83-g_"
      },
      "outputs": [],
      "source": [
        "\n",
        "array = np.c_[X]"
      ]
    },
    {
      "cell_type": "code",
      "execution_count": null,
      "metadata": {
        "id": "U-9rAlNmsJ-j"
      },
      "outputs": [],
      "source": [
        "#Getting features names\n",
        "features_names = tfidf_vectorizer.get_feature_names_out() "
      ]
    },
    {
      "cell_type": "code",
      "execution_count": null,
      "metadata": {
        "id": "dxwamZPktwq1"
      },
      "outputs": [],
      "source": [
        "df1 = pd.DataFrame(X, index=[0+i for i in range(6418)], columns=features_names)"
      ]
    },
    {
      "cell_type": "code",
      "execution_count": null,
      "metadata": {
        "id": "oK7ueogM1TAJ"
      },
      "outputs": [],
      "source": [
        "df1.to_csv('features.csv' , index=False)"
      ]
    },
    {
      "cell_type": "markdown",
      "metadata": {
        "id": "xH5T3Y_0r3mB"
      },
      "source": [
        "### **Model**"
      ]
    },
    {
      "cell_type": "code",
      "execution_count": null,
      "metadata": {
        "id": "9CTXb3ksvzv2"
      },
      "outputs": [],
      "source": [
        "df = pd.read_csv('features.csv')"
      ]
    },
    {
      "cell_type": "code",
      "execution_count": null,
      "metadata": {
        "id": "uYqNlpWaReQ6",
        "outputId": "d16adfbd-7466-436f-be89-f9acbbff4531"
      },
      "outputs": [
        {
          "data": {
            "text/html": [
              "<div>\n",
              "<style scoped>\n",
              "    .dataframe tbody tr th:only-of-type {\n",
              "        vertical-align: middle;\n",
              "    }\n",
              "\n",
              "    .dataframe tbody tr th {\n",
              "        vertical-align: top;\n",
              "    }\n",
              "\n",
              "    .dataframe thead th {\n",
              "        text-align: right;\n",
              "    }\n",
              "</style>\n",
              "<table border=\"1\" class=\"dataframe\">\n",
              "  <thead>\n",
              "    <tr style=\"text-align: right;\">\n",
              "      <th></th>\n",
              "      <th>aaj</th>\n",
              "      <th>aamir</th>\n",
              "      <th>aamp</th>\n",
              "      <th>aaradhya</th>\n",
              "      <th>ababa</th>\n",
              "      <th>abacha</th>\n",
              "      <th>abakaliki</th>\n",
              "      <th>abandon</th>\n",
              "      <th>abat</th>\n",
              "      <th>abbasi</th>\n",
              "      <th>...</th>\n",
              "      <th>zomato</th>\n",
              "      <th>zombi</th>\n",
              "      <th>zone</th>\n",
              "      <th>zonecityspecif</th>\n",
              "      <th>zoo</th>\n",
              "      <th>zookeep</th>\n",
              "      <th>zoolog</th>\n",
              "      <th>zoom</th>\n",
              "      <th>zydu</th>\n",
              "      <th>zyphr</th>\n",
              "    </tr>\n",
              "  </thead>\n",
              "  <tbody>\n",
              "    <tr>\n",
              "      <th>0</th>\n",
              "      <td>0.0</td>\n",
              "      <td>0.0</td>\n",
              "      <td>0.0</td>\n",
              "      <td>0.0</td>\n",
              "      <td>0.0</td>\n",
              "      <td>0.0</td>\n",
              "      <td>0.0</td>\n",
              "      <td>0.0</td>\n",
              "      <td>0.0</td>\n",
              "      <td>0.0</td>\n",
              "      <td>...</td>\n",
              "      <td>0.0</td>\n",
              "      <td>0.0</td>\n",
              "      <td>0.0</td>\n",
              "      <td>0.0</td>\n",
              "      <td>0.0</td>\n",
              "      <td>0.0</td>\n",
              "      <td>0.0</td>\n",
              "      <td>0.0</td>\n",
              "      <td>0.0</td>\n",
              "      <td>0.0</td>\n",
              "    </tr>\n",
              "    <tr>\n",
              "      <th>1</th>\n",
              "      <td>0.0</td>\n",
              "      <td>0.0</td>\n",
              "      <td>0.0</td>\n",
              "      <td>0.0</td>\n",
              "      <td>0.0</td>\n",
              "      <td>0.0</td>\n",
              "      <td>0.0</td>\n",
              "      <td>0.0</td>\n",
              "      <td>0.0</td>\n",
              "      <td>0.0</td>\n",
              "      <td>...</td>\n",
              "      <td>0.0</td>\n",
              "      <td>0.0</td>\n",
              "      <td>0.0</td>\n",
              "      <td>0.0</td>\n",
              "      <td>0.0</td>\n",
              "      <td>0.0</td>\n",
              "      <td>0.0</td>\n",
              "      <td>0.0</td>\n",
              "      <td>0.0</td>\n",
              "      <td>0.0</td>\n",
              "    </tr>\n",
              "    <tr>\n",
              "      <th>2</th>\n",
              "      <td>0.0</td>\n",
              "      <td>0.0</td>\n",
              "      <td>0.0</td>\n",
              "      <td>0.0</td>\n",
              "      <td>0.0</td>\n",
              "      <td>0.0</td>\n",
              "      <td>0.0</td>\n",
              "      <td>0.0</td>\n",
              "      <td>0.0</td>\n",
              "      <td>0.0</td>\n",
              "      <td>...</td>\n",
              "      <td>0.0</td>\n",
              "      <td>0.0</td>\n",
              "      <td>0.0</td>\n",
              "      <td>0.0</td>\n",
              "      <td>0.0</td>\n",
              "      <td>0.0</td>\n",
              "      <td>0.0</td>\n",
              "      <td>0.0</td>\n",
              "      <td>0.0</td>\n",
              "      <td>0.0</td>\n",
              "    </tr>\n",
              "    <tr>\n",
              "      <th>3</th>\n",
              "      <td>0.0</td>\n",
              "      <td>0.0</td>\n",
              "      <td>0.0</td>\n",
              "      <td>0.0</td>\n",
              "      <td>0.0</td>\n",
              "      <td>0.0</td>\n",
              "      <td>0.0</td>\n",
              "      <td>0.0</td>\n",
              "      <td>0.0</td>\n",
              "      <td>0.0</td>\n",
              "      <td>...</td>\n",
              "      <td>0.0</td>\n",
              "      <td>0.0</td>\n",
              "      <td>0.0</td>\n",
              "      <td>0.0</td>\n",
              "      <td>0.0</td>\n",
              "      <td>0.0</td>\n",
              "      <td>0.0</td>\n",
              "      <td>0.0</td>\n",
              "      <td>0.0</td>\n",
              "      <td>0.0</td>\n",
              "    </tr>\n",
              "    <tr>\n",
              "      <th>4</th>\n",
              "      <td>0.0</td>\n",
              "      <td>0.0</td>\n",
              "      <td>0.0</td>\n",
              "      <td>0.0</td>\n",
              "      <td>0.0</td>\n",
              "      <td>0.0</td>\n",
              "      <td>0.0</td>\n",
              "      <td>0.0</td>\n",
              "      <td>0.0</td>\n",
              "      <td>0.0</td>\n",
              "      <td>...</td>\n",
              "      <td>0.0</td>\n",
              "      <td>0.0</td>\n",
              "      <td>0.0</td>\n",
              "      <td>0.0</td>\n",
              "      <td>0.0</td>\n",
              "      <td>0.0</td>\n",
              "      <td>0.0</td>\n",
              "      <td>0.0</td>\n",
              "      <td>0.0</td>\n",
              "      <td>0.0</td>\n",
              "    </tr>\n",
              "  </tbody>\n",
              "</table>\n",
              "<p>5 rows × 7942 columns</p>\n",
              "</div>"
            ],
            "text/plain": [
              "   aaj  aamir  aamp  aaradhya  ababa  abacha  abakaliki  abandon  abat  \\\n",
              "0  0.0    0.0   0.0       0.0    0.0     0.0        0.0      0.0   0.0   \n",
              "1  0.0    0.0   0.0       0.0    0.0     0.0        0.0      0.0   0.0   \n",
              "2  0.0    0.0   0.0       0.0    0.0     0.0        0.0      0.0   0.0   \n",
              "3  0.0    0.0   0.0       0.0    0.0     0.0        0.0      0.0   0.0   \n",
              "4  0.0    0.0   0.0       0.0    0.0     0.0        0.0      0.0   0.0   \n",
              "\n",
              "   abbasi  ...  zomato  zombi  zone  zonecityspecif  zoo  zookeep  zoolog  \\\n",
              "0     0.0  ...     0.0    0.0   0.0             0.0  0.0      0.0     0.0   \n",
              "1     0.0  ...     0.0    0.0   0.0             0.0  0.0      0.0     0.0   \n",
              "2     0.0  ...     0.0    0.0   0.0             0.0  0.0      0.0     0.0   \n",
              "3     0.0  ...     0.0    0.0   0.0             0.0  0.0      0.0     0.0   \n",
              "4     0.0  ...     0.0    0.0   0.0             0.0  0.0      0.0     0.0   \n",
              "\n",
              "   zoom  zydu  zyphr  \n",
              "0   0.0   0.0    0.0  \n",
              "1   0.0   0.0    0.0  \n",
              "2   0.0   0.0    0.0  \n",
              "3   0.0   0.0    0.0  \n",
              "4   0.0   0.0    0.0  \n",
              "\n",
              "[5 rows x 7942 columns]"
            ]
          },
          "execution_count": 30,
          "metadata": {},
          "output_type": "execute_result"
        }
      ],
      "source": [
        "df.head()"
      ]
    },
    {
      "cell_type": "code",
      "execution_count": null,
      "metadata": {
        "id": "4AorgsgBYsng"
      },
      "outputs": [],
      "source": [
        "#importing necessary packages\n",
        "import torch\n",
        "import torch.nn as nn\n",
        "import torch.nn.functional as F\n",
        "import torch.optim as optim\n",
        "from torchvision import datasets, transforms\n",
        "from sklearn.model_selection import train_test_split\n",
        "from torch.utils.data import Dataset"
      ]
    },
    {
      "cell_type": "code",
      "execution_count": null,
      "metadata": {
        "id": "KeClqLSlKkss"
      },
      "outputs": [],
      "source": [
        "data = torch.tensor(df.to_numpy())"
      ]
    },
    {
      "cell_type": "code",
      "execution_count": null,
      "metadata": {
        "colab": {
          "base_uri": "https://localhost:8080/"
        },
        "id": "o73PLOaCLBH-",
        "outputId": "49fc9e2d-0f88-4ff5-b916-996240478c36"
      },
      "outputs": [
        {
          "data": {
            "text/plain": [
              "tensor([[0.0000, 0.0000, 0.0000,  ..., 0.0000, 0.0000, 0.0000],\n",
              "        [0.0000, 0.0000, 0.0000,  ..., 0.0000, 0.0000, 0.0000],\n",
              "        [0.0000, 0.0000, 0.0000,  ..., 0.0000, 0.0000, 0.0000],\n",
              "        ...,\n",
              "        [0.0000, 0.0000, 0.0000,  ..., 0.0000, 0.0000, 0.0000],\n",
              "        [0.0000, 0.4864, 0.0000,  ..., 0.0000, 0.0000, 0.0000],\n",
              "        [0.0000, 0.0000, 0.0000,  ..., 0.0000, 0.0000, 0.0000]],\n",
              "       dtype=torch.float64)"
            ]
          },
          "execution_count": 33,
          "metadata": {},
          "output_type": "execute_result"
        }
      ],
      "source": [
        "data"
      ]
    },
    {
      "cell_type": "code",
      "execution_count": null,
      "metadata": {
        "colab": {
          "base_uri": "https://localhost:8080/",
          "height": 299
        },
        "id": "l1QumA3yLGE9",
        "outputId": "e35d7d29-6e84-44cd-90cb-a254b08b4afd"
      },
      "outputs": [
        {
          "data": {
            "text/html": [
              "<div>\n",
              "<style scoped>\n",
              "    .dataframe tbody tr th:only-of-type {\n",
              "        vertical-align: middle;\n",
              "    }\n",
              "\n",
              "    .dataframe tbody tr th {\n",
              "        vertical-align: top;\n",
              "    }\n",
              "\n",
              "    .dataframe thead th {\n",
              "        text-align: right;\n",
              "    }\n",
              "</style>\n",
              "<table border=\"1\" class=\"dataframe\">\n",
              "  <thead>\n",
              "    <tr style=\"text-align: right;\">\n",
              "      <th></th>\n",
              "      <th>aaj</th>\n",
              "      <th>aamir</th>\n",
              "      <th>aamp</th>\n",
              "      <th>aaradhya</th>\n",
              "      <th>ababa</th>\n",
              "      <th>abacha</th>\n",
              "      <th>abakaliki</th>\n",
              "      <th>abandon</th>\n",
              "      <th>abat</th>\n",
              "      <th>abbasi</th>\n",
              "      <th>...</th>\n",
              "      <th>zomato</th>\n",
              "      <th>zombi</th>\n",
              "      <th>zone</th>\n",
              "      <th>zonecityspecif</th>\n",
              "      <th>zoo</th>\n",
              "      <th>zookeep</th>\n",
              "      <th>zoolog</th>\n",
              "      <th>zoom</th>\n",
              "      <th>zydu</th>\n",
              "      <th>zyphr</th>\n",
              "    </tr>\n",
              "  </thead>\n",
              "  <tbody>\n",
              "    <tr>\n",
              "      <th>0</th>\n",
              "      <td>0.0</td>\n",
              "      <td>0.0</td>\n",
              "      <td>0.0</td>\n",
              "      <td>0.0</td>\n",
              "      <td>0.0</td>\n",
              "      <td>0.0</td>\n",
              "      <td>0.0</td>\n",
              "      <td>0.0</td>\n",
              "      <td>0.0</td>\n",
              "      <td>0.0</td>\n",
              "      <td>...</td>\n",
              "      <td>0.0</td>\n",
              "      <td>0.0</td>\n",
              "      <td>0.0</td>\n",
              "      <td>0.0</td>\n",
              "      <td>0.0</td>\n",
              "      <td>0.0</td>\n",
              "      <td>0.0</td>\n",
              "      <td>0.0</td>\n",
              "      <td>0.0</td>\n",
              "      <td>0.0</td>\n",
              "    </tr>\n",
              "    <tr>\n",
              "      <th>1</th>\n",
              "      <td>0.0</td>\n",
              "      <td>0.0</td>\n",
              "      <td>0.0</td>\n",
              "      <td>0.0</td>\n",
              "      <td>0.0</td>\n",
              "      <td>0.0</td>\n",
              "      <td>0.0</td>\n",
              "      <td>0.0</td>\n",
              "      <td>0.0</td>\n",
              "      <td>0.0</td>\n",
              "      <td>...</td>\n",
              "      <td>0.0</td>\n",
              "      <td>0.0</td>\n",
              "      <td>0.0</td>\n",
              "      <td>0.0</td>\n",
              "      <td>0.0</td>\n",
              "      <td>0.0</td>\n",
              "      <td>0.0</td>\n",
              "      <td>0.0</td>\n",
              "      <td>0.0</td>\n",
              "      <td>0.0</td>\n",
              "    </tr>\n",
              "    <tr>\n",
              "      <th>2</th>\n",
              "      <td>0.0</td>\n",
              "      <td>0.0</td>\n",
              "      <td>0.0</td>\n",
              "      <td>0.0</td>\n",
              "      <td>0.0</td>\n",
              "      <td>0.0</td>\n",
              "      <td>0.0</td>\n",
              "      <td>0.0</td>\n",
              "      <td>0.0</td>\n",
              "      <td>0.0</td>\n",
              "      <td>...</td>\n",
              "      <td>0.0</td>\n",
              "      <td>0.0</td>\n",
              "      <td>0.0</td>\n",
              "      <td>0.0</td>\n",
              "      <td>0.0</td>\n",
              "      <td>0.0</td>\n",
              "      <td>0.0</td>\n",
              "      <td>0.0</td>\n",
              "      <td>0.0</td>\n",
              "      <td>0.0</td>\n",
              "    </tr>\n",
              "    <tr>\n",
              "      <th>3</th>\n",
              "      <td>0.0</td>\n",
              "      <td>0.0</td>\n",
              "      <td>0.0</td>\n",
              "      <td>0.0</td>\n",
              "      <td>0.0</td>\n",
              "      <td>0.0</td>\n",
              "      <td>0.0</td>\n",
              "      <td>0.0</td>\n",
              "      <td>0.0</td>\n",
              "      <td>0.0</td>\n",
              "      <td>...</td>\n",
              "      <td>0.0</td>\n",
              "      <td>0.0</td>\n",
              "      <td>0.0</td>\n",
              "      <td>0.0</td>\n",
              "      <td>0.0</td>\n",
              "      <td>0.0</td>\n",
              "      <td>0.0</td>\n",
              "      <td>0.0</td>\n",
              "      <td>0.0</td>\n",
              "      <td>0.0</td>\n",
              "    </tr>\n",
              "    <tr>\n",
              "      <th>4</th>\n",
              "      <td>0.0</td>\n",
              "      <td>0.0</td>\n",
              "      <td>0.0</td>\n",
              "      <td>0.0</td>\n",
              "      <td>0.0</td>\n",
              "      <td>0.0</td>\n",
              "      <td>0.0</td>\n",
              "      <td>0.0</td>\n",
              "      <td>0.0</td>\n",
              "      <td>0.0</td>\n",
              "      <td>...</td>\n",
              "      <td>0.0</td>\n",
              "      <td>0.0</td>\n",
              "      <td>0.0</td>\n",
              "      <td>0.0</td>\n",
              "      <td>0.0</td>\n",
              "      <td>0.0</td>\n",
              "      <td>0.0</td>\n",
              "      <td>0.0</td>\n",
              "      <td>0.0</td>\n",
              "      <td>0.0</td>\n",
              "    </tr>\n",
              "  </tbody>\n",
              "</table>\n",
              "<p>5 rows × 7942 columns</p>\n",
              "</div>"
            ],
            "text/plain": [
              "   aaj  aamir  aamp  aaradhya  ababa  abacha  abakaliki  abandon  abat  \\\n",
              "0  0.0    0.0   0.0       0.0    0.0     0.0        0.0      0.0   0.0   \n",
              "1  0.0    0.0   0.0       0.0    0.0     0.0        0.0      0.0   0.0   \n",
              "2  0.0    0.0   0.0       0.0    0.0     0.0        0.0      0.0   0.0   \n",
              "3  0.0    0.0   0.0       0.0    0.0     0.0        0.0      0.0   0.0   \n",
              "4  0.0    0.0   0.0       0.0    0.0     0.0        0.0      0.0   0.0   \n",
              "\n",
              "   abbasi  ...  zomato  zombi  zone  zonecityspecif  zoo  zookeep  zoolog  \\\n",
              "0     0.0  ...     0.0    0.0   0.0             0.0  0.0      0.0     0.0   \n",
              "1     0.0  ...     0.0    0.0   0.0             0.0  0.0      0.0     0.0   \n",
              "2     0.0  ...     0.0    0.0   0.0             0.0  0.0      0.0     0.0   \n",
              "3     0.0  ...     0.0    0.0   0.0             0.0  0.0      0.0     0.0   \n",
              "4     0.0  ...     0.0    0.0   0.0             0.0  0.0      0.0     0.0   \n",
              "\n",
              "   zoom  zydu  zyphr  \n",
              "0   0.0   0.0    0.0  \n",
              "1   0.0   0.0    0.0  \n",
              "2   0.0   0.0    0.0  \n",
              "3   0.0   0.0    0.0  \n",
              "4   0.0   0.0    0.0  \n",
              "\n",
              "[5 rows x 7942 columns]"
            ]
          },
          "execution_count": 34,
          "metadata": {},
          "output_type": "execute_result"
        }
      ],
      "source": [
        "df.head()"
      ]
    },
    {
      "cell_type": "code",
      "execution_count": null,
      "metadata": {
        "colab": {
          "base_uri": "https://localhost:8080/"
        },
        "id": "w8Ke4BSsKu9T",
        "outputId": "7b8dd32d-233e-41f7-8b46-3a2d884720b1"
      },
      "outputs": [
        {
          "data": {
            "text/plain": [
              "array([1, 1, 0, ..., 0, 0, 1], dtype=int64)"
            ]
          },
          "execution_count": 35,
          "metadata": {},
          "output_type": "execute_result"
        }
      ],
      "source": [
        "y = label\n",
        "y"
      ]
    },
    {
      "cell_type": "code",
      "execution_count": null,
      "metadata": {
        "colab": {
          "base_uri": "https://localhost:8080/"
        },
        "id": "RZts3QQuLlia",
        "outputId": "8bf1d41c-b734-4c9a-c07e-6b8195734a9e"
      },
      "outputs": [
        {
          "data": {
            "text/plain": [
              "tensor([1, 1, 0,  ..., 0, 0, 1])"
            ]
          },
          "execution_count": 36,
          "metadata": {},
          "output_type": "execute_result"
        }
      ],
      "source": [
        "#from array to tensor\n",
        "targets = torch.tensor(y)\n",
        "targets"
      ]
    },
    {
      "cell_type": "code",
      "execution_count": null,
      "metadata": {
        "id": "Ro_0oGBgL223"
      },
      "outputs": [],
      "source": [
        "#Splitting data to test and train\n",
        "X_train,X_test,y_train,y_test = train_test_split(data,targets,test_size=0.2)"
      ]
    },
    {
      "cell_type": "code",
      "execution_count": null,
      "metadata": {
        "colab": {
          "base_uri": "https://localhost:8080/"
        },
        "id": "YBFnt35IbzUl",
        "outputId": "307ecae9-b562-4c9b-803b-737fd07306b5"
      },
      "outputs": [
        {
          "data": {
            "text/plain": [
              "torch.Size([5134, 7942])"
            ]
          },
          "execution_count": 38,
          "metadata": {},
          "output_type": "execute_result"
        }
      ],
      "source": [
        "X_train.shape"
      ]
    },
    {
      "cell_type": "code",
      "execution_count": null,
      "metadata": {
        "colab": {
          "base_uri": "https://localhost:8080/"
        },
        "id": "wYUY_S4Jei-8",
        "outputId": "7b5a27c4-9b2c-4c8f-ea41-99fc55231dfe"
      },
      "outputs": [
        {
          "data": {
            "text/plain": [
              "torch.Size([1284, 7942])"
            ]
          },
          "execution_count": 39,
          "metadata": {},
          "output_type": "execute_result"
        }
      ],
      "source": [
        "X_test.shape"
      ]
    },
    {
      "cell_type": "code",
      "execution_count": null,
      "metadata": {
        "id": "J2Fn7byiwXRB"
      },
      "outputs": [],
      "source": [
        "#Splitting data to train and validation\n",
        "X_train, X_val, y_train, y_val = train_test_split(X_train, y_train, test_size=0.25, random_state=1)"
      ]
    },
    {
      "cell_type": "code",
      "execution_count": null,
      "metadata": {
        "colab": {
          "base_uri": "https://localhost:8080/"
        },
        "id": "CjgkPPF7wkhs",
        "outputId": "90962f0d-7a0d-4f8f-95d6-86391a9b20c4"
      },
      "outputs": [
        {
          "name": "stderr",
          "output_type": "stream",
          "text": [
            "C:\\Users\\dcij\\AppData\\Local\\Temp/ipykernel_20820/2392758023.py:1: UserWarning: To copy construct from a tensor, it is recommended to use sourceTensor.clone().detach() or sourceTensor.clone().detach().requires_grad_(True), rather than torch.tensor(sourceTensor).\n",
            "  X_train = torch.tensor(X_train)\n",
            "C:\\Users\\dcij\\AppData\\Local\\Temp/ipykernel_20820/2392758023.py:2: UserWarning: To copy construct from a tensor, it is recommended to use sourceTensor.clone().detach() or sourceTensor.clone().detach().requires_grad_(True), rather than torch.tensor(sourceTensor).\n",
            "  X_test = torch.tensor(X_test)\n",
            "C:\\Users\\dcij\\AppData\\Local\\Temp/ipykernel_20820/2392758023.py:3: UserWarning: To copy construct from a tensor, it is recommended to use sourceTensor.clone().detach() or sourceTensor.clone().detach().requires_grad_(True), rather than torch.tensor(sourceTensor).\n",
            "  X_val = torch.tensor(X_val)\n"
          ]
        }
      ],
      "source": [
        "X_train = torch.tensor(X_train)\n",
        "X_test = torch.tensor(X_test)\n",
        "X_val = torch.tensor(X_val)"
      ]
    },
    {
      "cell_type": "code",
      "execution_count": null,
      "metadata": {
        "colab": {
          "base_uri": "https://localhost:8080/"
        },
        "id": "XeoMlSVweqxJ",
        "outputId": "8012b7cf-c663-4acc-ca8d-1ab0b64411b4"
      },
      "outputs": [
        {
          "data": {
            "text/plain": [
              "tensor([[0., 0., 0.,  ..., 0., 0., 0.],\n",
              "        [0., 0., 0.,  ..., 0., 0., 0.],\n",
              "        [0., 0., 0.,  ..., 0., 0., 0.],\n",
              "        ...,\n",
              "        [0., 0., 0.,  ..., 0., 0., 0.],\n",
              "        [0., 0., 0.,  ..., 0., 0., 0.],\n",
              "        [0., 0., 0.,  ..., 0., 0., 0.]], dtype=torch.float64)"
            ]
          },
          "execution_count": 42,
          "metadata": {},
          "output_type": "execute_result"
        }
      ],
      "source": [
        "X_train"
      ]
    },
    {
      "cell_type": "code",
      "execution_count": null,
      "metadata": {
        "colab": {
          "base_uri": "https://localhost:8080/"
        },
        "id": "_myaqa2JwoED",
        "outputId": "4164ef96-8ff9-49aa-93ac-ac301191cdf4"
      },
      "outputs": [
        {
          "name": "stderr",
          "output_type": "stream",
          "text": [
            "C:\\Users\\dcij\\AppData\\Local\\Temp/ipykernel_20820/1134878580.py:1: UserWarning: To copy construct from a tensor, it is recommended to use sourceTensor.clone().detach() or sourceTensor.clone().detach().requires_grad_(True), rather than torch.tensor(sourceTensor).\n",
            "  y_train = torch.tensor(y_train)\n",
            "C:\\Users\\dcij\\AppData\\Local\\Temp/ipykernel_20820/1134878580.py:2: UserWarning: To copy construct from a tensor, it is recommended to use sourceTensor.clone().detach() or sourceTensor.clone().detach().requires_grad_(True), rather than torch.tensor(sourceTensor).\n",
            "  y_test = torch.tensor(y_test)\n",
            "C:\\Users\\dcij\\AppData\\Local\\Temp/ipykernel_20820/1134878580.py:3: UserWarning: To copy construct from a tensor, it is recommended to use sourceTensor.clone().detach() or sourceTensor.clone().detach().requires_grad_(True), rather than torch.tensor(sourceTensor).\n",
            "  y_val = torch.tensor(y_val)\n"
          ]
        }
      ],
      "source": [
        "y_train = torch.tensor(y_train)\n",
        "y_test = torch.tensor(y_test)\n",
        "y_val = torch.tensor(y_val)"
      ]
    },
    {
      "cell_type": "code",
      "execution_count": null,
      "metadata": {
        "id": "cwCEex520QU_"
      },
      "outputs": [],
      "source": [
        "y_train = y_train.to(torch.float32)\n",
        "y_test = y_test.to(torch.float32)\n",
        "y_val = y_val.to(torch.float32)\n"
      ]
    },
    {
      "cell_type": "code",
      "execution_count": null,
      "metadata": {
        "id": "7T7EE-c50CDF"
      },
      "outputs": [],
      "source": [
        "#Creating MyDataset class inheriting from Dataset \n",
        "class MyDataset(Dataset):\n",
        "    def __init__(self, data, targets):\n",
        "        super(MyDataset, self)\n",
        "        self.data = data\n",
        "        self.targets = targets\n",
        "        \n",
        "    def __getitem__(self, idx):\n",
        "        return self.data[idx], self.targets[idx]\n",
        "    def __len__(self):\n",
        "        return len(self.targets)"
      ]
    },
    {
      "cell_type": "code",
      "execution_count": null,
      "metadata": {
        "id": "BJVR6EuHRWYN"
      },
      "outputs": [],
      "source": [
        "#Instanciation of 3 objects for traing, test and validation data and targets \n",
        "train_dataset = MyDataset(X_train,y_train)\n",
        "val_dataset = MyDataset(X_val,y_val)\n",
        "test_dataset = MyDataset(X_test,y_test)"
      ]
    },
    {
      "cell_type": "code",
      "execution_count": null,
      "metadata": {
        "id": "PETW7iRvSCBn"
      },
      "outputs": [],
      "source": [
        "batch_size = 64"
      ]
    },
    {
      "cell_type": "code",
      "execution_count": null,
      "metadata": {
        "id": "Ry1tofxXThPC"
      },
      "outputs": [],
      "source": [
        "#Importing DataLoader\n",
        "from torch.utils.data import DataLoader"
      ]
    },
    {
      "cell_type": "code",
      "execution_count": null,
      "metadata": {
        "id": "-dT6hsVTSddF"
      },
      "outputs": [],
      "source": [
        "#Creating DataLoader objects for training, test and validation datasets\n",
        "train_Dataloader = DataLoader(train_dataset , batch_size)\n",
        "val_Dataloader = DataLoader(val_dataset , batch_size)\n",
        "test_Dataloader = DataLoader(test_dataset , batch_size)"
      ]
    },
    {
      "cell_type": "code",
      "execution_count": null,
      "metadata": {
        "colab": {
          "base_uri": "https://localhost:8080/"
        },
        "id": "MGtj3p4KUFSM",
        "outputId": "71625bac-dd90-4d48-aa66-facd7ab4b066"
      },
      "outputs": [
        {
          "data": {
            "text/plain": [
              "3850"
            ]
          },
          "execution_count": 50,
          "metadata": {},
          "output_type": "execute_result"
        }
      ],
      "source": [
        "len(train_Dataloader.dataset)"
      ]
    },
    {
      "cell_type": "code",
      "execution_count": null,
      "metadata": {
        "id": "aUJHKkXgi5in"
      },
      "outputs": [],
      "source": [
        "#Creating MyNN class inheriting from nn.Module\n",
        "class MyNN(nn.Module):\n",
        "    def __init__(self):\n",
        "        super(MyNN,self).__init__()\n",
        "        self.input_layer = nn.Linear(7942, 64)\n",
        "        self.hidden_layer = nn.Linear(64,32)\n",
        "        self.output_layer = nn.Linear(32,2)\n",
        "    \n",
        "    def forward(self, x):\n",
        "        x = F.relu(self.input_layer(x))\n",
        "        x = F.relu(self.hidden_layer(x))\n",
        "        return self.output_layer(x)\n",
        " "
      ]
    },
    {
      "cell_type": "code",
      "execution_count": null,
      "metadata": {
        "id": "t_M9UH6nYcIK",
        "outputId": "8422893c-8c6a-43f1-a2c4-68616ee0da3d"
      },
      "outputs": [
        {
          "data": {
            "text/plain": [
              "MyNN(\n",
              "  (input_layer): Linear(in_features=7942, out_features=64, bias=True)\n",
              "  (hidden_layer): Linear(in_features=64, out_features=32, bias=True)\n",
              "  (output_layer): Linear(in_features=32, out_features=2, bias=True)\n",
              ")"
            ]
          },
          "execution_count": 52,
          "metadata": {},
          "output_type": "execute_result"
        }
      ],
      "source": [
        "#Instanciating our NN\n",
        "model = MyNN()\n",
        "model"
      ]
    },
    {
      "cell_type": "markdown",
      "metadata": {
        "id": "yVcFxr9dReQ9"
      },
      "source": [
        "# Model training"
      ]
    },
    {
      "cell_type": "code",
      "execution_count": null,
      "metadata": {
        "id": "7ygSizqaoCjS"
      },
      "outputs": [],
      "source": [
        "# Defining our loss function. We'll use CrossEntropyLoss\n",
        "loss_function = nn.CrossEntropyLoss()"
      ]
    },
    {
      "cell_type": "code",
      "execution_count": null,
      "metadata": {
        "id": "u13jTtJ8r336"
      },
      "outputs": [],
      "source": [
        "import torch.optim as optim"
      ]
    },
    {
      "cell_type": "code",
      "execution_count": null,
      "metadata": {
        "id": "QuxfN4OhrVfP"
      },
      "outputs": [],
      "source": [
        "# Loss optimizer function,and defining the learning rate.\n",
        "#optimizer = optim.Adadelta(model.parameters(), lr=100)\n",
        "optimizer = optim.Adam(model.parameters(), lr=0.001)\n",
        "#optimizer = optim.SGD(model.parameters(), lr=0.001, momentum=0.9)"
      ]
    },
    {
      "cell_type": "code",
      "execution_count": null,
      "metadata": {
        "id": "pIJyD25LReQ-"
      },
      "outputs": [],
      "source": [
        "def training_model(nb_epochs):\n",
        "    for i in range(nb_epochs):\n",
        "        # Training\n",
        "        model.train()\n",
        "        # initialising train_loss\n",
        "        train_loss = 0\n",
        "        # loop on training dataset minibatches\n",
        "        for data,targets in train_Dataloader:    \n",
        "            # predicted labels' vector \n",
        "            output = model(data.float())\n",
        "            # Calculating loss by comparing predicted labels and current minibatch targets \n",
        "            loss = loss_function(output,targets.long())\n",
        "            # Backpropagation: \n",
        "            \n",
        "            optimizer.zero_grad()\n",
        "            # backpropagation\n",
        "            loss.backward()\n",
        "            # Optimizer step\n",
        "            optimizer.step()\n",
        "            # Updating training loss by adding data batch's loss\n",
        "            train_loss += loss.item()\n",
        "        # A la sortie de la boucle de l'entraînement, on calcule le coût moyen pour toutes les données training\n",
        "        train_loss /= len(train_dataset)\n",
        "        #Validating loop\n",
        "        # initialising valid loss\n",
        "        valid_loss = 0\n",
        "        # initialising right predictions\n",
        "        correct = 0\n",
        "        # Evaluating mode\n",
        "        model.eval()\n",
        "        # No gradient descent\n",
        "        with torch.no_grad():\n",
        "            # loop on validation dataset's minibatches\n",
        "            for data,targets in val_Dataloader:  \n",
        "               \n",
        "                output = model(data.float())\n",
        "                # Calculating loss by comparing predicted labels and current minibatch targets \n",
        "                loss = loss_function(output,targets.long())\n",
        "                # Updating training loss by adding data batch's loss\n",
        "                valid_loss += loss.item()\n",
        "                \n",
        "                correct += torch.sum((torch.argmax(output, dim=1) == targets)).item()\n",
        "            \n",
        "            valid_loss /= len(val_dataset)\n",
        "          \n",
        "            correct = correct/len(val_dataset)\n",
        "            \n",
        "            print(f\"epoch: {i+1}, train loss: {train_loss:.4f}, validation loss: {valid_loss:.4f}, correct predictions: {correct*100:.2f}%\")\n",
        "            \n",
        "        \n",
        "\n"
      ]
    },
    {
      "cell_type": "code",
      "execution_count": null,
      "metadata": {
        "colab": {
          "base_uri": "https://localhost:8080/"
        },
        "id": "RZGbOvtcjVH2",
        "outputId": "5e91cc3e-4d6b-4c72-b337-f4d23e368a80"
      },
      "outputs": [
        {
          "name": "stdout",
          "output_type": "stream",
          "text": [
            "epoch: 1, train loss: 0.0102, validation loss: 0.0085, correct predictions: 91.28%\n",
            "epoch: 2, train loss: 0.0048, validation loss: 0.0034, correct predictions: 92.60%\n",
            "epoch: 3, train loss: 0.0016, validation loss: 0.0031, correct predictions: 92.68%\n",
            "epoch: 4, train loss: 0.0007, validation loss: 0.0032, correct predictions: 92.37%\n",
            "epoch: 5, train loss: 0.0004, validation loss: 0.0034, correct predictions: 92.45%\n",
            "epoch: 6, train loss: 0.0002, validation loss: 0.0037, correct predictions: 92.21%\n",
            "epoch: 7, train loss: 0.0001, validation loss: 0.0039, correct predictions: 92.13%\n",
            "epoch: 8, train loss: 0.0001, validation loss: 0.0041, correct predictions: 91.74%\n",
            "epoch: 9, train loss: 0.0001, validation loss: 0.0043, correct predictions: 91.51%\n"
          ]
        }
      ],
      "source": [
        "training_model(9)"
      ]
    },
    {
      "cell_type": "markdown",
      "metadata": {
        "id": "-zlDEtkDReQ-"
      },
      "source": [
        "# Testing Model"
      ]
    },
    {
      "cell_type": "code",
      "execution_count": null,
      "metadata": {
        "id": "0i4zrpiEReQ-"
      },
      "outputs": [],
      "source": [
        "test_loss = 0\n",
        "\n",
        "correct = 0\n",
        "with torch.no_grad():\n",
        "    for data,targets in test_Dataloader:  \n",
        "        output = model(data.float())\n",
        "        loss = loss_function(output,targets.long())\n",
        "        test_loss += loss.item()\n",
        "        correct += torch.sum((torch.argmax(output, dim=1) == targets)).item()\n",
        "    \n",
        "    test_loss /= len(test_dataset)\n",
        "    test_accuracy = correct/len(test_dataset)"
      ]
    },
    {
      "cell_type": "code",
      "execution_count": null,
      "metadata": {
        "id": "Vr6SpUSZReQ_",
        "outputId": "2c544363-5963-491e-bbf6-e72b15af7d29"
      },
      "outputs": [
        {
          "data": {
            "text/plain": [
              "0.9018691588785047"
            ]
          },
          "execution_count": 59,
          "metadata": {},
          "output_type": "execute_result"
        }
      ],
      "source": [
        "test_accuracy"
      ]
    },
    {
      "cell_type": "code",
      "execution_count": null,
      "metadata": {
        "id": "6BII22kzReQ_"
      },
      "outputs": [],
      "source": [
        "#Applying tfidf on tweet\n",
        "def tfidf(tweet) : \n",
        "        tweet= preprocess(tweet) \n",
        "        tfidf_enc = tfidf_vectorizer.transform([tweet])\n",
        "        tfidf_enc_array = tfidf_enc.toarray()\n",
        "          \n",
        "        return tfidf_enc_array"
      ]
    },
    {
      "cell_type": "code",
      "execution_count": null,
      "metadata": {
        "id": "ui7C72ZPReQ_"
      },
      "outputs": [],
      "source": [
        "#fuction predicting if a tweet is real or fake\n",
        "def predict(text):\n",
        "      with torch.no_grad():\n",
        "        #vectorizing   \n",
        "        vect=tfidf(text) \n",
        "        #Converting to tensor\n",
        "        test= torch.tensor(vect,dtype=torch.float) \n",
        "        output = model.forward(test) \n",
        "        return output"
      ]
    },
    {
      "cell_type": "code",
      "execution_count": null,
      "metadata": {
        "id": "zsFUNyxzReQ_"
      },
      "outputs": [],
      "source": [
        "from sklearn.preprocessing import LabelEncoder\n",
        "def news(text):\n",
        "    encoder = LabelEncoder()\n",
        "    encoder.fit(y_train)\n",
        "    encoder.fit(y_test)\n",
        "    encoded_Y_test = encoder.transform(y_test)\n",
        "    encoded_Y_train = encoder.transform(y_train)\n",
        "    preprocessed_text=preprocess(text)\n",
        "    prediction=predict(preprocessed_text)\n",
        "    return  prediction\n"
      ]
    },
    {
      "cell_type": "code",
      "execution_count": null,
      "metadata": {
        "id": "vs81AP8HReQ_"
      },
      "outputs": [],
      "source": [
        "def make_prediction(text):\n",
        "    res=news(text)\n",
        "    encoder = LabelEncoder()\n",
        "    encoder.fit(y_train)\n",
        "    encoder.fit(y_test)\n",
        "    encoded_Y_test = encoder.transform(y_test)\n",
        "    encoded_Y_train = encoder.transform(y_train)\n",
        "    if (encoder.classes_[np.argmax(res)]==1):\n",
        "        return 'real'\n",
        "    if(encoder.classes_[np.argmax(res)]==0): \n",
        "        return 'fake'"
      ]
    },
    {
      "cell_type": "code",
      "execution_count": null,
      "metadata": {
        "id": "hktnDbJcReQ_",
        "outputId": "496a0ffb-9715-4137-e385-c2169541806e"
      },
      "outputs": [
        {
          "data": {
            "text/plain": [
              "'real'"
            ]
          },
          "execution_count": 77,
          "metadata": {},
          "output_type": "execute_result"
        }
      ],
      "source": [
        "make_prediction(\"The CDC currently reports 99031 deaths. In general the discrepancies in death counts between different sources are small and explicable. The death toll stands at roughly 100000 people today.\")"
      ]
    },
    {
      "cell_type": "code",
      "execution_count": null,
      "metadata": {
        "id": "pjdykko4ReQ_"
      },
      "outputs": [],
      "source": [
        "from tkinter import *\n",
        "from tkinter import ttk,messagebox\n",
        "from PIL import Image,ImageTk\n",
        "import numpy as np\n",
        "\n",
        "class Entries:\n",
        "    def __init__(self,root):\n",
        "        self.root  = root\n",
        "        blank_space =\"  \"\n",
        "        self.root.title(30*blank_space+\"Fake news detection\")\n",
        "        self.root.geometry(\"500x250\")\n",
        "\n",
        "    \n",
        "        self.bg = ImageTk.PhotoImage(file=\"C:\\\\Users\\\\dcij\\\\Desktop\\\\Projet IA\\\\img.jpg\")\n",
        "        bg = Label(self.root,image=self.bg).place(x=0,y=0,relwidth=1,relheight=1)\n",
        "\n",
        "        label1 = Label(self.root, text=\"Enter your tweet:\",font=('Times (Body)',10,\"bold\"),fg=\"black\")\n",
        "        label1.place(x=25,y=60)\n",
        "      \n",
        "\n",
        "        e = ttk.Entry(self.root,justify = CENTER)\n",
        "        e.place(x=175,y=60,width=200,height=30)\n",
        "       \n",
        "        def display_results(twt):\n",
        "            my_window = Tk()\n",
        "            blank_space =\"  \"\n",
        "            my_window.title(30*blank_space+\"Fake news detection\")\n",
        "            my_window.geometry(\"500x250\")\n",
        "            string_todisplay = make_prediction(twt)\n",
        "            \n",
        "            my_window.bg = ImageTk.PhotoImage(file=\"C:\\\\Users\\\\dcij\\\\Desktop\\\\Projet IA\\\\img.jpg\")\n",
        "            bg = Label(my_window,image=my_window.bg).place(x=0,y=0,width=1,height=1)\n",
        "            \n",
        "            #my_window.bg1 = ImageTk.PhotoImage(file=\"C:\\\\Users\\\\dcij\\\\Desktop\\\\Projet IA\\\\img.jpg\")\n",
        "            #bg1 = Label(my_window,image=my_window.bg).place(x=0,y=0,relwidth=1,relheight=1)\n",
        "\n",
        "            label2 = Label(my_window, text=\"Prediction result : \",font=('Times (Body)',15,\"bold\"),fg=\"black\")\n",
        "            label2.place(x=25,y=40)\n",
        "            label1 = Label(my_window, text=string_todisplay,font=('Times (Body)',15,\"bold\"),fg=\"black\")\n",
        "            label1.place(x=300,y=40)\n",
        "            \n",
        "        def entry1():\n",
        "            try:\n",
        "                tweet_to_verify = e.get()\n",
        "                self.root.destroy()\n",
        "                display_results(tweet_to_verify)\n",
        "\n",
        "            except ValueError:\n",
        "                messagebox.showerror(\"Error\",\"erreur!!\",parent=self.root)\n",
        "                messagebox.showerror(\"Error\",\"Please enter valid news!\",parent=self.root)\n",
        "\n",
        "        def reset():\n",
        "            e.delete(0,END)\n",
        "      \n",
        "        myButton1 = Button(self.root, text=\"Reset\",bd=0,cursor=\"hand2\",font=('Times (Body)',10,\"bold\"),fg=\"black\",width=10, command=reset)\n",
        "        myButton1.place(x=300,y=140)\n",
        "\n",
        "        myButton2 = Button(self.root, text=\"Predict\",bd=0,cursor=\"hand2\",font=('Times (Body)',10,\"bold\"),fg=\"black\",width=10, command=entry1)\n",
        "        myButton2.place(x=75,y=140)\n",
        "\n",
        "root = Tk()\n",
        "obj = Entries(root)\n",
        "root.mainloop()  \n"
      ]
    },
    {
      "cell_type": "code",
      "execution_count": null,
      "metadata": {
        "id": "Sz-XRxTzReRA"
      },
      "outputs": [],
      "source": [
        ""
      ]
    },
    {
      "cell_type": "code",
      "execution_count": null,
      "metadata": {
        "id": "VH9KLOqZReRA"
      },
      "outputs": [],
      "source": [
        ""
      ]
    }
  ],
  "metadata": {
    "colab": {
      "collapsed_sections": [],
      "name": "fake_news-det.ipynb",
      "provenance": [],
      "include_colab_link": true
    },
    "kernelspec": {
      "display_name": "Python 3 (ipykernel)",
      "language": "python",
      "name": "python3"
    },
    "language_info": {
      "codemirror_mode": {
        "name": "ipython",
        "version": 3
      },
      "file_extension": ".py",
      "mimetype": "text/x-python",
      "name": "python",
      "nbconvert_exporter": "python",
      "pygments_lexer": "ipython3",
      "version": "3.9.7"
    }
  },
  "nbformat": 4,
  "nbformat_minor": 0
}